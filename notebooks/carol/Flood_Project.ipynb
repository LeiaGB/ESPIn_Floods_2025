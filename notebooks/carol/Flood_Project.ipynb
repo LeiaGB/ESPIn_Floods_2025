{
 "cells": [
  {
   "cell_type": "markdown",
   "id": "396d7961-33fb-45e7-9cf1-ce88d3501fd3",
   "metadata": {},
   "source": [
    "# ESPIn Team Project - Flood Group\n",
    "#### Ekta Aggarwal$^1$, Leia Barnes$^2$, Morgan Carrington$^3$, Prakash Pokhrel$^4$, Caroline Mierzejewski$^5$\n",
    "\n",
    "[1] Univeristy, [2] University, [3] University, [4] University, [5] Texas State University, TX USA"
   ]
  },
  {
   "cell_type": "markdown",
   "id": "15aa4009-65d5-41c2-a3fe-b2de2b2eab05",
   "metadata": {},
   "source": [
    "## Introduction\n",
    "This project shows how overtime the intensity and frequency of rain events can cause incision and lateral changes in stream channels.\n",
    "\n",
    "Precipitation erodes landscapes creating new channels and causing others to migrate across floodplanes. When discharge increases in the channel due to more rainfall, sediment will easily be eroded and transported downstream until flow velocity decreases and sediment will eventually get deposited. "
   ]
  },
  {
   "cell_type": "markdown",
   "id": "badd75cc-f49f-4ba5-b106-24392e914ced",
   "metadata": {},
   "source": [
    "# Initial Setup \n",
    "We neeed to first install necessary python packages and create the grid/ landscape for the project using ***."
   ]
  },
  {
   "cell_type": "markdown",
   "id": "bb95b89a-dd61-4d39-b3db-8d560532672a",
   "metadata": {},
   "source": [
    "### Importing necessary libraries and components"
   ]
  },
  {
   "cell_type": "code",
   "execution_count": null,
   "id": "8cdf671d-1998-44cf-b961-0370f301f1f9",
   "metadata": {},
   "outputs": [],
   "source": [
    "# import packages\n",
    "\n",
    "import numpy as np\n",
    "\n",
    "import matplotlib as mpl\n",
    "import matplotlib.pyplot as plt\n",
    "from matplotlib import cm\n",
    "\n",
    "from landlab import RasterModelGrid\n",
    "from landlab.components import FastscapeEroder, PriorityFloodFlowRouter\n",
    "from landlab.plot import imshow_grid\n",
    "from landlab.plot.drainage_plot import drainage_plot\n",
    "\n",
    "import copy"
   ]
  },
  {
   "cell_type": "markdown",
   "id": "4fc7acd1-450e-4719-8c0a-af86d2c32c42",
   "metadata": {},
   "source": [
    "### Define plotting functions and generate a grid\n",
    "\n",
    "A raster model grid is intially created using rastermodelgrid showing a slanted bowl like landscape which we incorporated small hills scattered around the surface... Change Morgan or other topo?"
   ]
  },
  {
   "cell_type": "code",
   "execution_count": null,
   "id": "8e3f371e-5440-4087-9e1c-75776672a159",
   "metadata": {},
   "outputs": [],
   "source": [
    "\"\"\" This part will change with Morgans topo code \"\"\"\n",
    "\n",
    "def surf_plot(mg, surface=\"topographic__elevation\", title=\"Surface plot of topography\"):\n",
    "    plt.figure()\n",
    "    ax = plt.axes(projection=\"3d\")\n",
    "    \n",
    "    # Plot the surface.\n",
    "    Z = mg.at_node[surface].reshape(mg.shape)\n",
    "    color = cm.gray((Z - Z.min()) / (Z.max() - Z.min()))\n",
    "    ax.plot_surface(\n",
    "        mg.x_of_node.reshape(mg.shape),\n",
    "        mg.y_of_node.reshape(mg.shape),\n",
    "        Z,\n",
    "        rstride=1,\n",
    "        cstride=1,\n",
    "        facecolors=color,\n",
    "        linewidth=0.0,\n",
    "        antialiased=False,\n",
    "    )\n",
    "    ax.view_init(elev=20, azim=-150)\n",
    "    ax.set_xlabel(\"X axis\")\n",
    "    ax.set_ylabel(\"Y axis\")\n",
    "    ax.set_zlabel(\"Elevation\")\n",
    "    plt.title(title)\n",
    "    plt.show()\n",
    "\n",
    "# Create a raster model grid \n",
    "\n",
    "mg = RasterModelGrid((25, 30))\n",
    "x, y = mg.x_of_node, mg.y_of_node\n",
    "base_elevation =1.0 + x**2.2 + y**2\n",
    "mg.add_field(\"topographic__elevation\", base_elevation, at=\"node\")\n",
    "\n",
    "# Selecting nodes to influence to generate hills on topographic slope\n",
    "\n",
    "num_bumps = 10 #picks 10 random number of nodes that will be raised up\n",
    "bump_height = 300 #raises the randomly selected nodes 300\n",
    "bump_radius = 4  # choses radius around each raised node to also effect\n",
    "sigma = bump_radius / 2.0\n",
    "\n",
    "# raised_nodes = np.random.choice(mg.number_of_nodes, size=num_bumps, replace=False) # Use this code to initially choose a number of nodes to raise on the hillslope \n",
    "# print(\"Random node indices:\", raised_nodes) # If you would like to see which nodes are affected from the previous line, print the nodes that are raised\n",
    "\n",
    "raised_nodes = np.array([197, 124, 494, 443,  60, 233, 627, 296, 600, 274]) # This code selects 10 nodes to raise that were initially chosen at random\n",
    "\n",
    "# Add a Gaussian bump around each raised node\n",
    "\n",
    "for node in raised_nodes:\n",
    "    xc, yc = x[node], y[node]\n",
    "    distances = np.sqrt((x - xc)**2 + (y - yc)**2)\n",
    "    mask = distances < bump_radius\n",
    "    bump = bump_height * np.exp(-((distances[mask])**2) / (2 * sigma**2))\n",
    "    mg.at_node[\"topographic__elevation\"][mask] += bump\n",
    "\n",
    "# Plot the final terrain\n",
    "\n",
    "surf_plot(mg, title=\"Watershed Topograhpy\") #creates a 3d version of the topographic elevation with elevation ranging from ~ 2,000 to 0 \n",
    "\n",
    "mg.imshow(\"topographic__elevation\") #creates a 2d version of the topographic elevation"
   ]
  },
  {
   "cell_type": "markdown",
   "id": "5d8d2eb4-7de7-447c-84b0-397e9801f0c7",
   "metadata": {},
   "source": [
    "### Initialize flow router and plot drainage plot  \n",
    "PriorityFloodFlowRouter is a component used to accumulate flow and calculate drainage area using the priorty flood algorithm. Perimeter nodes do not add to flux accumulation. "
   ]
  },
  {
   "cell_type": "code",
   "execution_count": null,
   "id": "b03f785d-69c9-4971-9520-94da6dd27b69",
   "metadata": {},
   "outputs": [],
   "source": [
    "# set up parameters for the PriorityFloodFlowRouter\n",
    "\n",
    "\"\"\"\n",
    "Parameters: \n",
    "mg = raster model grid created above\n",
    "surface = surface to direct flow across \n",
    "update_flow_depressions =  build-in depression handler\n",
    "depresion_handler = breach or fill, breach creates drainage path on depression cell\n",
    "\"\"\"\n",
    "\n",
    "fa = PriorityFloodFlowRouter(\n",
    "    mg, \n",
    "    surface=\"topographic__elevation\",\n",
    "    flow_metric=\"D8\", #\n",
    "    update_flow_depressions=True,\n",
    "    depression_handler=\"breach\", \n",
    " )"
   ]
  },
  {
   "cell_type": "code",
   "execution_count": null,
   "id": "3f14eb12-a66b-4a86-9a37-043d5306c830",
   "metadata": {},
   "outputs": [],
   "source": [
    "# run one step with PriorityFloodFlowRouter and create two plots\n",
    "\n",
    "fa.run_one_step()\n",
    "plt.figure()\n",
    "drainage_plot(mg) # plot flow over topographic elevation\n",
    "drainage_plot(mg, \"drainage_area\") #plot flow over drainage area "
   ]
  },
  {
   "cell_type": "markdown",
   "id": "e6261045-32af-4160-bc24-aec9978c05c0",
   "metadata": {},
   "source": [
    "### Initialize rain\n",
    "This will be changed with Leia and Ekta's stuff"
   ]
  },
  {
   "cell_type": "code",
   "execution_count": null,
   "id": "6d6f2f69-51a2-4c9e-af18-f03db21a374a",
   "metadata": {},
   "outputs": [],
   "source": [
    "\"\"\"\n",
    "Parameters\n",
    "?\n",
    "?\n",
    "?\n",
    "\"\"\"\n",
    "\n",
    "rain = 10.0 + 20.0 * np.random.rand(mg.number_of_nodes)\n",
    "filtration=np.random.rand(mg.number_of_nodes)\n",
    "final_flux_in=rain*(1-filtration)\n",
    "#final_flux_in=0.8*rain\n",
    "\n",
    "plt.imshow(rain.reshape(mg.shape), origin=\"lower\", cmap=\"PuBu\", vmin=0)\n",
    "plt.colorbar()\n",
    "plt.show()\n",
    "\n",
    "_ = mg.add_field(\"water__unit_flux_in\", final_flux_in, at=\"node\", clobber=True)"
   ]
  },
  {
   "cell_type": "markdown",
   "id": "c170ac8f-d159-4daa-a144-3a6081a33855",
   "metadata": {},
   "source": [
    "### Rerun drainage with rain\n",
    "After rainfall is added on the surface, a surface water discharge plot is recreated"
   ]
  },
  {
   "cell_type": "code",
   "execution_count": null,
   "id": "606dcf43-762f-4d41-8708-b1d35cdf9d6d",
   "metadata": {},
   "outputs": [],
   "source": [
    "fa.run_one_step()\n",
    "plt.figure()\n",
    "drainage_plot(mg, \"surface_water__discharge\", title=\"Discharge\")"
   ]
  },
  {
   "cell_type": "markdown",
   "id": "77c12181-53bd-4f2c-85bb-25bde1331121",
   "metadata": {},
   "source": [
    "### Something"
   ]
  },
  {
   "cell_type": "code",
   "execution_count": null,
   "id": "82ad6c3f-5279-4197-846e-8ccd714e83e9",
   "metadata": {},
   "outputs": [],
   "source": [
    "# stream power eroder component\n",
    "\n",
    "\"\"\"\n",
    "Fastscape Eroder Model Parameters: \n",
    "- mg: RasterModelGrid\n",
    "- K_sp = constant that incorporates erodibility of rock efficiency of sed transport, and climate\n",
    "- m_sp = exponent on drainage area\n",
    "- n_sp = exponent on slope\n",
    "- threshold_sp = erosion threshold\n",
    "- discharge_field = [L^2/T]. The default is to use the grid field 'drainage_area', use \"surfacce_water__discharge\" for keyword argument\n",
    "\"\"\"\n",
    "\n",
    "sp = FastscapeEroder(\n",
    "    mg,\n",
    "    K_sp=0.0001, \n",
    "    m_sp=0.5,\n",
    "    n_sp=1.0, \n",
    "    threshold_sp=0.0,\n",
    "    discharge_field=\"surface_water__discharge\",\n",
    ")\n",
    "\n",
    "# Run model for 1,000 years plotting every 100 years\n",
    "run_duration = 1000.0  # duration of run, yr\n",
    "dt = 10.0  # time-step duration, yr\n",
    "plot_every = 100.0  # time interval for plotting, yr\n",
    "\n",
    "# Derived parameters\n",
    "nsteps = int(run_duration / dt)\n",
    "next_plot = plot_every\n",
    "\n",
    "# Set up colormap\n",
    "cmap = copy.copy(mpl.colormaps[\"pink\"])\n",
    "\n",
    "for i in range(1, nsteps + 1):\n",
    "    fa.run_one_step() # Priority Flood Flow Router\n",
    "    sp.run_one_step(dt) # Fastscape Eroder\n",
    "    \n",
    "    if i * dt >= next_plot: # plot grids\n",
    "        plt.figure()\n",
    "        imshow_grid(\n",
    "            mg,\n",
    "            \"topographic__elevation\",\n",
    "            grid_units=[\"m\", \"m\"],\n",
    "            var_name=\"Elevation (m)\",\n",
    "            cmap=cmap,\n",
    "        )\n",
    "        next_plot += plot_every"
   ]
  },
  {
   "cell_type": "markdown",
   "id": "3ec89f71-79a5-46fd-b411-64284ca728e8",
   "metadata": {},
   "source": [
    "### What happens when we change the precipitation? \n",
    "Show code on this below"
   ]
  },
  {
   "cell_type": "code",
   "execution_count": null,
   "id": "3ce7769a-f4f7-4f77-8767-ac919638d765",
   "metadata": {},
   "outputs": [],
   "source": []
  }
 ],
 "metadata": {
  "kernelspec": {
   "display_name": "CSDMS",
   "language": "python",
   "name": "csdms"
  },
  "language_info": {
   "codemirror_mode": {
    "name": "ipython",
    "version": 3
   },
   "file_extension": ".py",
   "mimetype": "text/x-python",
   "name": "python",
   "nbconvert_exporter": "python",
   "pygments_lexer": "ipython3",
   "version": "3.12.7"
  }
 },
 "nbformat": 4,
 "nbformat_minor": 5
}
