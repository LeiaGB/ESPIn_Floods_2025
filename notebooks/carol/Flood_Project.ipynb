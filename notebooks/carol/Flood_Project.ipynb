{
 "cells": [
  {
   "cell_type": "markdown",
   "id": "396d7961-33fb-45e7-9cf1-ce88d3501fd3",
   "metadata": {},
   "source": [
    "# ESPIn Team Project - Flood Group\n",
    "#### Ekta Aggarwal$^1$, Leia Barnes$^2$, Morgan Carrington$^3$, Prakash Pokhrel$^4$, Caroline Mierzejewski$^5$\n",
    "\n",
    "[1] Univeristy, [2] University, [3] University, [4] University, [5] Texas State University"
   ]
  },
  {
   "cell_type": "markdown",
   "id": "15aa4009-65d5-41c2-a3fe-b2de2b2eab05",
   "metadata": {},
   "source": [
    "## Introduction\n",
    "This project shows how overtime the intensity and frequency of rain events can cause incision and lateral changes in stream channels.\n",
    "\n",
    "We..."
   ]
  },
  {
   "cell_type": "markdown",
   "id": "bb95b89a-dd61-4d39-b3db-8d560532672a",
   "metadata": {},
   "source": [
    "This note"
   ]
  }
 ],
 "metadata": {
  "kernelspec": {
   "display_name": "CSDMS",
   "language": "python",
   "name": "csdms"
  },
  "language_info": {
   "codemirror_mode": {
    "name": "ipython",
    "version": 3
   },
   "file_extension": ".py",
   "mimetype": "text/x-python",
   "name": "python",
   "nbconvert_exporter": "python",
   "pygments_lexer": "ipython3",
   "version": "3.12.7"
  }
 },
 "nbformat": 4,
 "nbformat_minor": 5
}
